{
 "cells": [
  {
   "cell_type": "code",
   "execution_count": 1,
   "id": "95e0752b",
   "metadata": {
    "code_folding": [
     0
    ]
   },
   "outputs": [],
   "source": [
    "# Imports \n",
    "import pandas as pd\n",
    "import numpy as np\n",
    "import pickle \n",
    "from sentence_transformers import SentenceTransformer\n",
    "from typing import Callable, Union, List\n",
    "\n",
    "import ipywidgets as widgets\n",
    "from IPython.display import display\n",
    "\n",
    "\n",
    "import warnings\n",
    "warnings.filterwarnings('ignore')"
   ]
  },
  {
   "cell_type": "markdown",
   "id": "944e6e2a",
   "metadata": {},
   "source": [
    "## Demo Setup\n",
    "\n",
    "- Load in embedding model from HF \n",
    "- Load in trained Multilabel classification models \n",
    "- Get defined labels from Module 2\n",
    "- Load in sample data"
   ]
  },
  {
   "cell_type": "code",
   "execution_count": 7,
   "id": "12f29ce3",
   "metadata": {
    "code_folding": [
     0
    ]
   },
   "outputs": [],
   "source": [
    "# Load in embedding model \n",
    "embedding_model = SentenceTransformer('sentence-transformers/all-mpnet-base-v2')"
   ]
  },
  {
   "cell_type": "code",
   "execution_count": 8,
   "id": "5ae42cee",
   "metadata": {
    "code_folding": [
     0
    ]
   },
   "outputs": [],
   "source": [
    "# Load in trained models \n",
    "lr = pickle.load(open('../trained_models/lr_v2.pkl', 'rb'))\n",
    "kmeans = pickle.load(open('../trained_models/kmeans.pkl', 'rb'))"
   ]
  },
  {
   "cell_type": "code",
   "execution_count": 9,
   "id": "33ce8bb7",
   "metadata": {
    "code_folding": [
     0
    ]
   },
   "outputs": [],
   "source": [
    "# Grab the labels from GPT API from Module 2\n",
    "labels_dict = {\n",
    "    0: ['social issues', 'personal development', 'business and economics', 'community building'],\n",
    "    1: ['india', 'updates', 'testing', 'fatalities', 'recoveries', 'healthcare'],\n",
    "    2: ['face masks', 'safety', 'protection', 'public health', 'prevention'],\n",
    "    3: ['social media', 'resilience', 'community support', 'online events'],\n",
    "    4: ['global', 'cases', 'deaths', 'statistics'],\n",
    "    5: ['politics', 'government response', 'public health', 'conspiracy', 'human rights'],\n",
    "    6: ['health', 'information','vacccine', 'public awareness'],\n",
    "    7: ['layoffs', 'misinofrmation', 'mental health', 'lockdown', 'access', 'financial impact', 'political response', 'education']\n",
    "}\n",
    "\n",
    "# Grab the labels from GPT API from Module 2\n",
    "labels = ['social-issues',\n",
    " 'personal-development',\n",
    " 'business-and-economics',\n",
    " 'community-building',\n",
    " 'india',\n",
    " 'updates',\n",
    " 'testing',\n",
    " 'fatalities',\n",
    " 'recoveries',\n",
    " 'healthcare',\n",
    " 'face-masks',\n",
    " 'safety',\n",
    " 'protection',\n",
    " 'public-health',\n",
    " 'prevention',\n",
    " 'social-media',\n",
    " 'resilience',\n",
    " 'community-support',\n",
    " 'online-events',\n",
    " 'global',\n",
    " 'cases',\n",
    " 'deaths',\n",
    " 'statistics',\n",
    " 'politics',\n",
    " 'government-response',\n",
    " 'conspiracy',\n",
    " 'human-rights',\n",
    " 'health',\n",
    " 'information',\n",
    " 'vacccine',\n",
    " 'public-awareness',\n",
    " 'layoffs',\n",
    " 'misinformation',\n",
    " 'mental-health',\n",
    " 'lockdown',\n",
    " 'access',\n",
    " 'financial-impact',\n",
    " 'political-response',\n",
    " 'education']"
   ]
  },
  {
   "cell_type": "markdown",
   "id": "901a8366",
   "metadata": {},
   "source": [
    "## Demo Functions"
   ]
  },
  {
   "cell_type": "code",
   "execution_count": 18,
   "id": "34afacbe",
   "metadata": {
    "code_folding": []
   },
   "outputs": [],
   "source": [
    "def make_prediction(tweet: str, \n",
    "                    labels: Union[dict, list],\n",
    "                    embedding_model: SentenceTransformer, \n",
    "                    classification_model = None,\n",
    "                    clustering_model = None): \n",
    "    \n",
    "    \"\"\"\n",
    "    Generate a list of predicted labels for an input tweet\n",
    "    \"\"\"\n",
    "    \n",
    "    # Generate the word embedding \n",
    "    embedding = embedding_model.encode(tweet)\n",
    "    embedding = embedding.reshape(1, -1).astype(float)\n",
    "    \n",
    "    # If both there -> return nothing because error\n",
    "    if (clustering_model) and (classification_model):\n",
    "        return None\n",
    "    \n",
    "    # If clustering -> use that\n",
    "    if (clustering_model):\n",
    "        prediction = clustering_model.predict(embedding)\n",
    "        return labels[prediction[0]]\n",
    "    \n",
    "    if (classification_model):\n",
    "        prediction = classification_model.predict(embedding)[0]\n",
    "        return [labels[i] for i in range(len(labels)) if prediction[i] == 1]"
   ]
  },
  {
   "cell_type": "markdown",
   "id": "d1fd8ca0",
   "metadata": {},
   "source": [
    "## Demo"
   ]
  },
  {
   "cell_type": "code",
   "execution_count": 19,
   "id": "3f6b86f9",
   "metadata": {},
   "outputs": [
    {
     "name": "stdout",
     "output_type": "stream",
     "text": [
      "Enter a tweet: #COVID19 cases are on the rise again. Let's all do our part to stop the spread: get vaccinated, wear a mask, and social distance. Together, we can beat this virus.\n"
     ]
    },
    {
     "data": {
      "application/vnd.jupyter.widget-view+json": {
       "model_id": "470216e0f6a947728b8c41fcb13ede3f",
       "version_major": 2,
       "version_minor": 0
      },
      "text/plain": [
       "Dropdown(description='Select Model Type: ', options=('KMeans + GPT API', 'Logistic Regression'), value='KMeans…"
      ]
     },
     "metadata": {},
     "output_type": "display_data"
    },
    {
     "data": {
      "application/vnd.jupyter.widget-view+json": {
       "model_id": "a6166f6c966e42798b3057a79ea18cba",
       "version_major": 2,
       "version_minor": 0
      },
      "text/plain": [
       "Button(description='Run Inference', style=ButtonStyle(), tooltip='Run Inference')"
      ]
     },
     "metadata": {},
     "output_type": "display_data"
    },
    {
     "data": {
      "application/vnd.jupyter.widget-view+json": {
       "model_id": "015a4de0c99d463d844595aa1db9675f",
       "version_major": 2,
       "version_minor": 0
      },
      "text/plain": [
       "Output()"
      ]
     },
     "metadata": {},
     "output_type": "display_data"
    }
   ],
   "source": [
    "# Demo\n",
    "\n",
    "# Tweet Input\n",
    "tweet = input(\"Enter a tweet: \")\n",
    "\n",
    "# Select model type \n",
    "options = ['KMeans + GPT API', 'Logistic Regression']\n",
    "dropdown = widgets.Dropdown(options = options,\n",
    "                            value = options[0],\n",
    "                            description = 'Select Model Type: ')\n",
    "\n",
    "# Button to process the dataset and generate the plot\n",
    "button = widgets.Button(description = 'Run Inference', tooltip = 'Run Inference')\n",
    "\n",
    "# Display Result\n",
    "output = widgets.Output()\n",
    "\n",
    "def run_inference(labels, labels_dict, embedding_model, kmeans, lr): \n",
    "    \n",
    "    with output: \n",
    "        \n",
    "        # Clear any existing display\n",
    "        output.clear_output()\n",
    "    \n",
    "        # If clustering\n",
    "        if dropdown.value == options[0]: \n",
    "            labels = make_prediction(tweet = tweet, \n",
    "                                     labels = labels_dict, \n",
    "                                     embedding_model = embedding_model,\n",
    "                                     clustering_model = kmeans, \n",
    "                                     classification_model = None)\n",
    "            \n",
    "        else: \n",
    "            labels = make_prediction(tweet = tweet, \n",
    "                                     labels = labels,\n",
    "                                     embedding_model = embedding_model,\n",
    "                                     clustering_model = None, \n",
    "                                     classification_model = lr)\n",
    "            \n",
    "        # Print output\n",
    "        print(labels)\n",
    "\n",
    "button.on_click(lambda _: run_inference(labels, labels_dict, embedding_model, kmeans, lr))\n",
    "\n",
    "# Display everything \n",
    "display(dropdown)\n",
    "display(button)\n",
    "display(output)"
   ]
  },
  {
   "cell_type": "code",
   "execution_count": 17,
   "id": "8491a036",
   "metadata": {},
   "outputs": [
    {
     "data": {
      "text/plain": [
       "\"#COVID19 cases are on the rise again. Let's all do our part to stop the spread: get vaccinated, wear a mask, and social distance. Together, we can beat this virus.\""
      ]
     },
     "execution_count": 17,
     "metadata": {},
     "output_type": "execute_result"
    }
   ],
   "source": [
    "\"#COVID19 cases are on the rise again. Let's all do our part to stop the spread: get vaccinated, wear a mask, and social distance. Together, we can beat this virus.\""
   ]
  },
  {
   "cell_type": "code",
   "execution_count": null,
   "id": "14996782",
   "metadata": {},
   "outputs": [],
   "source": []
  }
 ],
 "metadata": {
  "kernelspec": {
   "display_name": "Python 3 (ipykernel)",
   "language": "python",
   "name": "python3"
  },
  "language_info": {
   "codemirror_mode": {
    "name": "ipython",
    "version": 3
   },
   "file_extension": ".py",
   "mimetype": "text/x-python",
   "name": "python",
   "nbconvert_exporter": "python",
   "pygments_lexer": "ipython3",
   "version": "3.10.8"
  }
 },
 "nbformat": 4,
 "nbformat_minor": 5
}
